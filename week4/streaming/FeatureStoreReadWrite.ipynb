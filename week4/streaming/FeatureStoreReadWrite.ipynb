{
 "cells": [
  {
   "cell_type": "code",
   "execution_count": 6,
   "id": "e18edd6d-9b5a-4641-8f14-f1efadd51999",
   "metadata": {},
   "outputs": [
    {
     "data": {
      "text/html": [
       "<pre style=\"white-space:pre;overflow-x:auto;line-height:normal;font-family:Menlo,'DejaVu Sans Mono',consolas,'Courier New',monospace\"><span style=\"color: #7fbfbf; text-decoration-color: #7fbfbf\">[01/24/25 22:03:48] </span><span style=\"color: #0069ff; text-decoration-color: #0069ff; font-weight: bold\">INFO    </span> Found credentials in shared credentials file: ~<span style=\"color: #e100e1; text-decoration-color: #e100e1\">/.aws/credentials</span>   <a href=\"file:///Users/pengzhao/opt/anaconda3/envs/mlops/lib/python3.10/site-packages/botocore/credentials.py\" target=\"_blank\"><span style=\"color: #7f7f7f; text-decoration-color: #7f7f7f\">credentials.py</span></a><span style=\"color: #7f7f7f; text-decoration-color: #7f7f7f\">:</span><a href=\"file:///Users/pengzhao/opt/anaconda3/envs/mlops/lib/python3.10/site-packages/botocore/credentials.py#1278\" target=\"_blank\"><span style=\"color: #7f7f7f; text-decoration-color: #7f7f7f\">1278</span></a>\n",
       "</pre>\n"
      ],
      "text/plain": [
       "\u001b[2;36m[01/24/25 22:03:48]\u001b[0m\u001b[2;36m \u001b[0m\u001b[1;38;2;0;105;255mINFO    \u001b[0m Found credentials in shared credentials file: ~\u001b[38;2;225;0;225m/.aws/\u001b[0m\u001b[38;2;225;0;225mcredentials\u001b[0m   \u001b]8;id=204989;file:///Users/pengzhao/opt/anaconda3/envs/mlops/lib/python3.10/site-packages/botocore/credentials.py\u001b\\\u001b[2mcredentials.py\u001b[0m\u001b]8;;\u001b\\\u001b[2m:\u001b[0m\u001b]8;id=183169;file:///Users/pengzhao/opt/anaconda3/envs/mlops/lib/python3.10/site-packages/botocore/credentials.py#1278\u001b\\\u001b[2m1278\u001b[0m\u001b]8;;\u001b\\\n"
      ]
     },
     "metadata": {},
     "output_type": "display_data"
    }
   ],
   "source": [
    "import boto3\n",
    "\n",
    "\n",
    "region = boto3.Session().region_name\n",
    "\n",
    "boto_session = boto3.Session(region_name=region)\n",
    "\n",
    "athena_client = boto_session.client(service_name=\"athena\", region_name=region)\n",
    "\n",
    "default_s3_bucket_name = \"s3://sagemaker-us-west-1-798223350085/athena/\"\n"
   ]
  },
  {
   "cell_type": "code",
   "execution_count": 3,
   "id": "49bbad9d-ca59-4019-b560-e6b6bbd9f3fc",
   "metadata": {},
   "outputs": [
    {
     "name": "stdout",
     "output_type": "stream",
     "text": [
      "SELECT id, sum(payment) from feature01 group by id;\n"
     ]
    }
   ],
   "source": [
    "query = \"SELECT id, sum(payment) from feature01 group by id;\"\n",
    "\n",
    "query_response = athena_client.start_query_execution(\n",
    "    QueryString=query,\n",
    "    QueryExecutionContext={\"Database\": \"customer\"},\n",
    "    ResultConfiguration={\n",
    "        \"OutputLocation\": default_s3_bucket_name,\n",
    "    },\n",
    ")\n",
    "\n",
    "print(query)"
   ]
  },
  {
   "cell_type": "code",
   "execution_count": 4,
   "id": "998888ef-12fd-48bc-ae6b-badb43e05c7e",
   "metadata": {},
   "outputs": [],
   "source": [
    "import pandas as pd\n",
    "\n",
    "S3_BUCKET_NAME = \"sagemaker-us-west-1-798223350085\"\n",
    "S3_OUTPUT_DIRECTORY = \"athena\"\n",
    "temp_file_location: str = \"./athena_query_results.csv\"\n",
    "s3_client = boto3.client(\n",
    "    service_name=\"s3\",\n",
    "    region_name=region,\n",
    ")\n",
    "\n",
    "s3_client.download_file(\n",
    "    S3_BUCKET_NAME,\n",
    "    f\"{S3_OUTPUT_DIRECTORY}/{query_response['QueryExecutionId']}.csv\",\n",
    "    temp_file_location,\n",
    ")\n",
    "df = pd.read_csv(temp_file_location)"
   ]
  },
  {
   "cell_type": "code",
   "execution_count": 22,
   "id": "6567870b-46b6-4885-8436-5ce93be3f35f",
   "metadata": {},
   "outputs": [
    {
     "data": {
      "text/html": [
       "<pre style=\"white-space:pre;overflow-x:auto;line-height:normal;font-family:Menlo,'DejaVu Sans Mono',consolas,'Courier New',monospace\"><span style=\"color: #7fbfbf; text-decoration-color: #7fbfbf\">[01/25/25 11:26:21] </span><span style=\"color: #0069ff; text-decoration-color: #0069ff; font-weight: bold\">INFO    </span> Found credentials in shared credentials file: ~<span style=\"color: #e100e1; text-decoration-color: #e100e1\">/.aws/credentials</span>   <a href=\"file:///Users/pengzhao/opt/anaconda3/envs/mlops/lib/python3.10/site-packages/botocore/credentials.py\" target=\"_blank\"><span style=\"color: #7f7f7f; text-decoration-color: #7f7f7f\">credentials.py</span></a><span style=\"color: #7f7f7f; text-decoration-color: #7f7f7f\">:</span><a href=\"file:///Users/pengzhao/opt/anaconda3/envs/mlops/lib/python3.10/site-packages/botocore/credentials.py#1278\" target=\"_blank\"><span style=\"color: #7f7f7f; text-decoration-color: #7f7f7f\">1278</span></a>\n",
       "</pre>\n"
      ],
      "text/plain": [
       "\u001b[2;36m[01/25/25 11:26:21]\u001b[0m\u001b[2;36m \u001b[0m\u001b[1;38;2;0;105;255mINFO    \u001b[0m Found credentials in shared credentials file: ~\u001b[38;2;225;0;225m/.aws/\u001b[0m\u001b[38;2;225;0;225mcredentials\u001b[0m   \u001b]8;id=817161;file:///Users/pengzhao/opt/anaconda3/envs/mlops/lib/python3.10/site-packages/botocore/credentials.py\u001b\\\u001b[2mcredentials.py\u001b[0m\u001b]8;;\u001b\\\u001b[2m:\u001b[0m\u001b]8;id=630399;file:///Users/pengzhao/opt/anaconda3/envs/mlops/lib/python3.10/site-packages/botocore/credentials.py#1278\u001b\\\u001b[2m1278\u001b[0m\u001b]8;;\u001b\\\n"
      ]
     },
     "metadata": {},
     "output_type": "display_data"
    },
    {
     "data": {
      "text/plain": [
       "'us-west-1'"
      ]
     },
     "execution_count": 22,
     "metadata": {},
     "output_type": "execute_result"
    }
   ],
   "source": [
    "import sagemaker\n",
    "from sagemaker.session import Session\n",
    "\n",
    "\n",
    "region = boto3.Session().region_name\n",
    "\n",
    "boto_session = boto3.Session(region_name=region)\n",
    "\n",
    "sagemaker_client = boto_session.client(service_name=\"sagemaker\", region_name=region)\n",
    "featurestore_runtime = boto_session.client(\n",
    "    service_name=\"sagemaker-featurestore-runtime\", region_name=region\n",
    ")\n",
    "\n",
    "feature_store_session = Session(\n",
    "    boto_session=boto_session,\n",
    "    sagemaker_client=sagemaker_client,\n",
    "    sagemaker_featurestore_runtime_client=featurestore_runtime,\n",
    ")\n",
    "region"
   ]
  },
  {
   "cell_type": "code",
   "execution_count": 23,
   "id": "a536960b-9e88-4058-927c-35c5503e95e7",
   "metadata": {},
   "outputs": [],
   "source": [
    "# read dynamodb feature\n",
    "dynamodb = boto3.client('dynamodb')\n",
    "record = dynamodb.get_item(TableName='customer', Key={'id':{'S':'1'}})"
   ]
  },
  {
   "cell_type": "code",
   "execution_count": 10,
   "id": "f892e56b-38ea-4cc8-ace8-721650c5dad6",
   "metadata": {},
   "outputs": [
    {
     "data": {
      "text/plain": [
       "'2'"
      ]
     },
     "execution_count": 10,
     "metadata": {},
     "output_type": "execute_result"
    }
   ],
   "source": [
    "children=record['Item']['children']['N']\n",
    "children"
   ]
  },
  {
   "cell_type": "code",
   "execution_count": 12,
   "id": "a251d7d8-4bf9-4d16-ae6e-2cc80cae1107",
   "metadata": {},
   "outputs": [],
   "source": [
    "# Offline feature from athena\n",
    "import pandas as pd\n",
    "import json\n",
    "churn = pd.read_csv(\"athena_query_results.csv\")"
   ]
  },
  {
   "cell_type": "code",
   "execution_count": 13,
   "id": "23b6357c-cb6a-470d-9966-0a3d15aaef93",
   "metadata": {},
   "outputs": [
    {
     "name": "stdout",
     "output_type": "stream",
     "text": [
      "1\n"
     ]
    }
   ],
   "source": [
    "id = churn['id'].values[0]\n",
    "print(id)"
   ]
  },
  {
   "cell_type": "code",
   "execution_count": 14,
   "id": "56b3acb2-a0b1-4b37-b08a-1462cac1201f",
   "metadata": {},
   "outputs": [
    {
     "data": {
      "text/plain": [
       "20"
      ]
     },
     "execution_count": 14,
     "metadata": {},
     "output_type": "execute_result"
    }
   ],
   "source": [
    "payments = churn[\"_col1\"].values[0]\n",
    "payments"
   ]
  },
  {
   "cell_type": "code",
   "execution_count": 25,
   "id": "f04b904e-f4be-4fa4-a4e9-87a0f5f59b8b",
   "metadata": {},
   "outputs": [],
   "source": [
    "from sagemaker.session import Session\n",
    "region = boto3.Session().region_name\n",
    "sagemaker_session = sagemaker.Session()\n",
    "boto_session = boto3.Session(region_name=region)"
   ]
  },
  {
   "cell_type": "code",
   "execution_count": 36,
   "id": "b006db28-abec-4819-aa7b-2fc04c7e9cda",
   "metadata": {},
   "outputs": [
    {
     "data": {
      "text/html": [
       "<div>\n",
       "<style scoped>\n",
       "    .dataframe tbody tr th:only-of-type {\n",
       "        vertical-align: middle;\n",
       "    }\n",
       "\n",
       "    .dataframe tbody tr th {\n",
       "        vertical-align: top;\n",
       "    }\n",
       "\n",
       "    .dataframe thead th {\n",
       "        text-align: right;\n",
       "    }\n",
       "</style>\n",
       "<table border=\"1\" class=\"dataframe\">\n",
       "  <thead>\n",
       "    <tr style=\"text-align: right;\">\n",
       "      <th></th>\n",
       "      <th>id</th>\n",
       "      <th>children</th>\n",
       "      <th>payment</th>\n",
       "      <th>event_time</th>\n",
       "    </tr>\n",
       "  </thead>\n",
       "  <tbody>\n",
       "    <tr>\n",
       "      <th>0</th>\n",
       "      <td>101</td>\n",
       "      <td>100</td>\n",
       "      <td>100</td>\n",
       "      <td>2023-07-01T14:59:55.711Z</td>\n",
       "    </tr>\n",
       "  </tbody>\n",
       "</table>\n",
       "</div>"
      ],
      "text/plain": [
       "    id  children  payment                event_time\n",
       "0  101       100      100  2023-07-01T14:59:55.711Z"
      ]
     },
     "execution_count": 36,
     "metadata": {},
     "output_type": "execute_result"
    }
   ],
   "source": [
    "# write fo feature store\n",
    "from sagemaker.feature_store.feature_group import FeatureGroup\n",
    "user_feature_group = FeatureGroup(\n",
    "    name=\"customer\", sagemaker_session=sagemaker_session\n",
    ")\n",
    "data = [[str(id), int(children), payments, '2023-07-01T14:59:55.711Z']]\n",
    "\n",
    "df = pd.DataFrame(data, columns=['id', 'children', 'payment', 'event_time'])\n",
    "df"
   ]
  },
  {
   "cell_type": "code",
   "execution_count": 48,
   "id": "f48117ec-f102-481f-83d9-a2c66988171a",
   "metadata": {},
   "outputs": [
    {
     "data": {
      "text/plain": [
       "IngestionManagerPandas(feature_group_name='customer', feature_definitions={'id': {'FeatureName': 'id', 'FeatureType': 'String'}, 'children': {'FeatureName': 'children', 'FeatureType': 'Integral'}, 'event_time': {'FeatureName': 'event_time', 'FeatureType': 'String'}, 'payment': {'FeatureName': 'payment', 'FeatureType': 'Integral'}}, sagemaker_fs_runtime_client_config=<botocore.config.Config object at 0x7f9153ce8700>, sagemaker_session=<sagemaker.session.Session object at 0x7f9153ceb370>, max_workers=3, max_processes=1, profile_name=None, _async_result=<multiprocess.pool.MapResult object at 0x7f9154057550>, _processing_pool=<pool ProcessPool(ncpus=1)>, _failed_indices=[])"
      ]
     },
     "execution_count": 48,
     "metadata": {},
     "output_type": "execute_result"
    }
   ],
   "source": [
    "user_feature_group.ingest(data_frame=df, max_workers=3, wait=True)"
   ]
  },
  {
   "cell_type": "code",
   "execution_count": 50,
   "id": "7fbed1b2-33c7-475d-b130-9a72f4bee993",
   "metadata": {},
   "outputs": [
    {
     "data": {
      "text/plain": [
       "{'ResponseMetadata': {'RequestId': '8ae8ec9a-3b42-4da6-8a9d-623aa02a70ba',\n",
       "  'HTTPStatusCode': 200,\n",
       "  'HTTPHeaders': {'x-amzn-requestid': '8ae8ec9a-3b42-4da6-8a9d-623aa02a70ba',\n",
       "   'content-type': 'application/json',\n",
       "   'content-length': '341',\n",
       "   'date': 'Sat, 25 Jan 2025 19:47:53 GMT'},\n",
       "  'RetryAttempts': 0},\n",
       " 'Record': [{'FeatureName': 'id', 'ValueAsString': '101'},\n",
       "  {'FeatureName': 'children', 'ValueAsString': '100'},\n",
       "  {'FeatureName': 'event_time', 'ValueAsString': '2023-07-01T14:59:55.711Z'},\n",
       "  {'FeatureName': 'payment', 'ValueAsString': '100'}]}"
      ]
     },
     "execution_count": 50,
     "metadata": {},
     "output_type": "execute_result"
    }
   ],
   "source": [
    "# read from feature store\n",
    "# record_identifier_value is the primary key in feature store, e.g. id in our case\n",
    "record_identifier_value = str(101)\n",
    "\n",
    "record = featurestore_runtime.get_record(\n",
    "    FeatureGroupName=\"customer\",\n",
    "    RecordIdentifierValueAsString=record_identifier_value,\n",
    ")\n",
    "record"
   ]
  },
  {
   "cell_type": "code",
   "execution_count": null,
   "id": "ffa6b718",
   "metadata": {},
   "outputs": [],
   "source": []
  }
 ],
 "metadata": {
  "kernelspec": {
   "display_name": "Python 3 (ipykernel)",
   "language": "python",
   "name": "python3"
  },
  "language_info": {
   "codemirror_mode": {
    "name": "ipython",
    "version": 3
   },
   "file_extension": ".py",
   "mimetype": "text/x-python",
   "name": "python",
   "nbconvert_exporter": "python",
   "pygments_lexer": "ipython3",
   "version": "3.10.14"
  }
 },
 "nbformat": 4,
 "nbformat_minor": 5
}
